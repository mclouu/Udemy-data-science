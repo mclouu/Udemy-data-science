{
 "cells": [
  {
   "cell_type": "code",
   "execution_count": 29,
   "metadata": {
    "scrolled": true
   },
   "outputs": [
    {
     "name": "stdout",
     "output_type": "stream",
     "text": [
      "[125000, 135000, 145000, 155000, 165000, 175000, 185000, 195000, 205000, 215000, 225000, 235000, 245000, 255000, 265000, 275000, 285000, 295000, 305000, 315000, 325000, 335000, 345000, 355000, 365000, 375000, 385000, 395000, 405000, 415000, 425000, 435000, 445000, 455000, 465000, 475000, 485000, 495000, 505000, 515000, 525000, 535000, 545000, 555000, 565000, 575000, 585000, 595000, 605000, 615000, 625000, 635000, 645000, 655000, 665000, 675000, 685000, 695000]\n"
     ]
    },
    {
     "data": {
      "text/plain": [
       "58"
      ]
     },
     "execution_count": 29,
     "metadata": {},
     "output_type": "execute_result"
    }
   ],
   "source": [
    "# créer une liste de contenant le prix de 58 maisons\n",
    "prixDe58Maison = list(range(125000,700000,10000))\n",
    "print(prixDe58Maison)\n",
    "len(prixDe58Maison)"
   ]
  },
  {
   "cell_type": "code",
   "execution_count": 28,
   "metadata": {
    "scrolled": true
   },
   "outputs": [
    {
     "name": "stdout",
     "output_type": "stream",
     "text": [
      "Mon compteur = 18\n",
      "Ma valeur = 305000\n",
      "Mon compteur = 19\n",
      "Ma valeur = 315000\n",
      "Mon compteur = 20\n",
      "Ma valeur = 325000\n",
      "Mon compteur = 21\n",
      "Ma valeur = 335000\n",
      "Mon compteur = 22\n",
      "Ma valeur = 345000\n",
      "Mon compteur = 23\n",
      "Ma valeur = 355000\n",
      "Mon compteur = 24\n",
      "Ma valeur = 365000\n",
      "Mon compteur = 25\n",
      "Ma valeur = 375000\n",
      "Mon compteur = 26\n",
      "Ma valeur = 385000\n",
      "Mon compteur = 27\n",
      "Ma valeur = 395000\n",
      "Mon compteur = 28\n",
      "Ma valeur = 405000\n",
      "Mon compteur = 29\n",
      "Ma valeur = 415000\n",
      "Mon compteur = 30\n",
      "Ma valeur = 425000\n",
      "Mon compteur = 31\n",
      "Ma valeur = 435000\n",
      "Mon compteur = 32\n",
      "Ma valeur = 445000\n",
      "Mon compteur = 33\n",
      "Ma valeur = 455000\n",
      "Mon compteur = 34\n",
      "Ma valeur = 465000\n",
      "Mon compteur = 35\n",
      "Ma valeur = 475000\n",
      "Mon compteur = 36\n",
      "Ma valeur = 485000\n",
      "Mon compteur = 37\n",
      "Ma valeur = 495000\n",
      "Mon compteur = 38\n",
      "Ma valeur = 505000\n",
      "Mon compteur = 39\n",
      "Ma valeur = 515000\n",
      "Mon compteur = 40\n",
      "Ma valeur = 525000\n",
      "Mon compteur = 41\n",
      "Ma valeur = 535000\n",
      "Mon compteur = 42\n",
      "Ma valeur = 545000\n",
      "Mon compteur = 43\n",
      "Ma valeur = 555000\n",
      "Mon compteur = 44\n",
      "Ma valeur = 565000\n",
      "Mon compteur = 45\n",
      "Ma valeur = 575000\n",
      "Mon compteur = 46\n",
      "Ma valeur = 585000\n",
      "Mon compteur = 47\n",
      "Ma valeur = 595000\n",
      "Mon compteur = 48\n",
      "Ma valeur = 605000\n",
      "Mon compteur = 49\n",
      "Ma valeur = 615000\n",
      "Mon compteur = 50\n",
      "Ma valeur = 625000\n",
      "Mon compteur = 51\n",
      "Ma valeur = 635000\n",
      "Mon compteur = 52\n",
      "Ma valeur = 645000\n",
      "Mon compteur = 53\n",
      "Ma valeur = 655000\n",
      "Mon compteur = 54\n",
      "Ma valeur = 665000\n",
      "Mon compteur = 55\n",
      "Ma valeur = 675000\n",
      "Mon compteur = 56\n",
      "Ma valeur = 685000\n",
      "Mon compteur = 57\n",
      "Ma valeur = 695000\n",
      "--------\n",
      "Nombre de maison superieur a 300 000 = 40\n"
     ]
    }
   ],
   "source": [
    "#1\n",
    "compteur = 0\n",
    "compteurMaison = 0\n",
    "while (compteur < 58):\n",
    "    if (prixDe58Maison[compteur] >= 300000):\n",
    "        print(\"Mon compteur = %d\" % (compteur))\n",
    "        print(\"Ma valeur = %d\" % (prixDe58Maison[compteur]))\n",
    "        compteurMaison = compteurMaison +1\n",
    "    compteur=compteur+1\n",
    "print(\"--------\")\n",
    "print(\"Nombre de maison supérieur à 300 000 = %d\" % (compteurMaison))"
   ]
  },
  {
   "cell_type": "code",
   "execution_count": 37,
   "metadata": {
    "scrolled": true
   },
   "outputs": [
    {
     "name": "stdout",
     "output_type": "stream",
     "text": [
      "Mon compteur = 13\n",
      "Ma valeur = 255000\n",
      "Mon compteur = 14\n",
      "Ma valeur = 265000\n",
      "Mon compteur = 15\n",
      "Ma valeur = 275000\n",
      "Mon compteur = 16\n",
      "Ma valeur = 285000\n",
      "Mon compteur = 17\n",
      "Ma valeur = 295000\n",
      "Mon compteur = 18\n",
      "Ma valeur = 305000\n",
      "Mon compteur = 19\n",
      "Ma valeur = 315000\n",
      "Mon compteur = 20\n",
      "Ma valeur = 325000\n",
      "Mon compteur = 21\n",
      "Ma valeur = 335000\n",
      "Mon compteur = 22\n",
      "Ma valeur = 345000\n",
      "Mon compteur = 23\n",
      "Ma valeur = 355000\n",
      "Mon compteur = 24\n",
      "Ma valeur = 365000\n",
      "Mon compteur = 25\n",
      "Ma valeur = 375000\n",
      "Mon compteur = 26\n",
      "Ma valeur = 385000\n",
      "Mon compteur = 27\n",
      "Ma valeur = 395000\n",
      "--------\n",
      "Nombre de maison compris entre 250 000 et 400 000 = 15\n"
     ]
    }
   ],
   "source": [
    "#2\n",
    "compteur = 0\n",
    "compteurMaison = 0\n",
    "while (compteur < 58):\n",
    "    if (prixDe58Maison[compteur] > 250000 and prixDe58Maison[compteur] < 400000):\n",
    "        print(\"Mon compteur = %d\" % (compteur))\n",
    "        print(\"Ma valeur = %d\" % (prixDe58Maison[compteur]))\n",
    "        compteurMaison = compteurMaison +1\n",
    "    compteur=compteur+1\n",
    "print(\"--------\")\n",
    "print(\"Nombre de maison compris entre 250 000 et 400 000 = %d\" % (compteurMaison))"
   ]
  },
  {
   "cell_type": "code",
   "execution_count": 32,
   "metadata": {
    "scrolled": true
   },
   "outputs": [
    {
     "name": "stdout",
     "output_type": "stream",
     "text": [
      "Mon compteur = 0\n",
      "Ma valeur = 125000\n",
      "Mon compteur = 1\n",
      "Ma valeur = 135000\n",
      "Mon compteur = 2\n",
      "Ma valeur = 145000\n",
      "Mon compteur = 3\n",
      "Ma valeur = 155000\n",
      "Mon compteur = 4\n",
      "Ma valeur = 165000\n",
      "Mon compteur = 5\n",
      "Ma valeur = 175000\n",
      "Mon compteur = 6\n",
      "Ma valeur = 185000\n",
      "Mon compteur = 7\n",
      "Ma valeur = 195000\n",
      "Mon compteur = 8\n",
      "Ma valeur = 205000\n",
      "Mon compteur = 9\n",
      "Ma valeur = 215000\n",
      "Mon compteur = 10\n",
      "Ma valeur = 225000\n",
      "Mon compteur = 11\n",
      "Ma valeur = 235000\n",
      "Mon compteur = 12\n",
      "Ma valeur = 245000\n",
      "Mon compteur = 13\n",
      "Ma valeur = 255000\n",
      "Mon compteur = 14\n",
      "Ma valeur = 265000\n",
      "Mon compteur = 15\n",
      "Ma valeur = 275000\n",
      "Mon compteur = 16\n",
      "Ma valeur = 285000\n",
      "Mon compteur = 17\n",
      "Ma valeur = 295000\n",
      "Mon compteur = 18\n",
      "Ma valeur = 305000\n",
      "Mon compteur = 19\n",
      "Ma valeur = 315000\n",
      "Mon compteur = 20\n",
      "Ma valeur = 325000\n",
      "Mon compteur = 21\n",
      "Ma valeur = 335000\n",
      "Mon compteur = 22\n",
      "Ma valeur = 345000\n",
      "Mon compteur = 23\n",
      "Ma valeur = 355000\n",
      "Mon compteur = 24\n",
      "Ma valeur = 365000\n",
      "Mon compteur = 25\n",
      "Ma valeur = 375000\n",
      "Mon compteur = 26\n",
      "Ma valeur = 385000\n",
      "Mon compteur = 27\n",
      "Ma valeur = 395000\n",
      "Mon compteur = 28\n",
      "Ma valeur = 405000\n",
      "Mon compteur = 29\n",
      "Ma valeur = 415000\n",
      "Mon compteur = 30\n",
      "Ma valeur = 425000\n",
      "Mon compteur = 31\n",
      "Ma valeur = 435000\n",
      "Mon compteur = 32\n",
      "Ma valeur = 445000\n",
      "Mon compteur = 33\n",
      "Ma valeur = 455000\n",
      "Mon compteur = 34\n",
      "Ma valeur = 465000\n",
      "Mon compteur = 35\n",
      "Ma valeur = 475000\n",
      "Mon compteur = 36\n",
      "Ma valeur = 485000\n",
      "Mon compteur = 37\n",
      "Ma valeur = 495000\n",
      "Mon compteur = 38\n",
      "Ma valeur = 505000\n",
      "Mon compteur = 39\n",
      "Ma valeur = 515000\n",
      "Mon compteur = 40\n",
      "Ma valeur = 525000\n",
      "Mon compteur = 41\n",
      "Ma valeur = 535000\n",
      "Mon compteur = 42\n",
      "Ma valeur = 545000\n",
      "Mon compteur = 43\n",
      "Ma valeur = 555000\n",
      "Mon compteur = 44\n",
      "Ma valeur = 565000\n",
      "Mon compteur = 45\n",
      "Ma valeur = 575000\n",
      "Mon compteur = 46\n",
      "Ma valeur = 585000\n",
      "Mon compteur = 47\n",
      "Ma valeur = 595000\n",
      "--------\n",
      "Nombre de maison inferieur a 600 000 = 48\n"
     ]
    }
   ],
   "source": [
    "#3\n",
    "compteur = 0\n",
    "compteurMaison = 0\n",
    "while (compteur < 58):\n",
    "    if (prixDe58Maison[compteur] < 600000):\n",
    "        print(\"Mon compteur = %d\" % (compteur))\n",
    "        print(\"Ma valeur = %d\" % (prixDe58Maison[compteur]))\n",
    "        compteurMaison = compteurMaison +1\n",
    "    compteur=compteur+1\n",
    "print(\"--------\")\n",
    "print(\"Nombre de maison inférieur à 600 000 = %d\" % (compteurMaison))"
   ]
  },
  {
   "cell_type": "code",
   "execution_count": 40,
   "metadata": {},
   "outputs": [
    {
     "name": "stdout",
     "output_type": "stream",
     "text": [
      "Mon compteur = 0\n",
      "Ma valeur = 125000\n",
      "Mon compteur = 1\n",
      "Ma valeur = 135000\n",
      "Mon compteur = 2\n",
      "Ma valeur = 145000\n",
      "Mon compteur = 53\n",
      "Ma valeur = 655000\n",
      "Mon compteur = 54\n",
      "Ma valeur = 665000\n",
      "Mon compteur = 55\n",
      "Ma valeur = 675000\n",
      "Mon compteur = 56\n",
      "Ma valeur = 685000\n",
      "Mon compteur = 57\n",
      "Ma valeur = 695000\n",
      "--------\n",
      "Nombre de maison inférieur à 150 000 ou supérieur à 650 000 = 8\n"
     ]
    }
   ],
   "source": [
    "#4\n",
    "compteur = 0\n",
    "compteurMaison = 0\n",
    "while (compteur < 58):\n",
    "    if (prixDe58Maison[compteur] < 150000 or prixDe58Maison[compteur] > 650000):\n",
    "        print(\"Mon compteur = %d\" % (compteur))\n",
    "        print(\"Ma valeur = %d\" % (prixDe58Maison[compteur]))\n",
    "        compteurMaison = compteurMaison +1\n",
    "    compteur=compteur+1\n",
    "print(\"--------\")\n",
    "print(\"Nombre de maison inférieur à 150 000 ou supérieur à 650 000 = %d\" % (compteurMaison))"
   ]
  },
  {
   "cell_type": "code",
   "execution_count": 42,
   "metadata": {},
   "outputs": [
    {
     "name": "stdout",
     "output_type": "stream",
     "text": [
      "le nombre de maison supérieur à 300 000 est de 40\n"
     ]
    }
   ],
   "source": [
    "# 1 en for\n",
    "compteurFor = 0\n",
    "for prix in prixDe58Maison:\n",
    "    if prix >= 300000:\n",
    "        compteurFor = compteurFor + 1\n",
    "print (\"le nombre de maison supérieur à 300 000 est de %d\" % (compteurFor))"
   ]
  },
  {
   "cell_type": "code",
   "execution_count": null,
   "metadata": {},
   "outputs": [],
   "source": []
  }
 ],
 "metadata": {
  "kernelspec": {
   "display_name": "Python 3",
   "language": "python",
   "name": "python3"
  },
  "language_info": {
   "codemirror_mode": {
    "name": "ipython",
    "version": 3
   },
   "file_extension": ".py",
   "mimetype": "text/x-python",
   "name": "python",
   "nbconvert_exporter": "python",
   "pygments_lexer": "ipython3",
   "version": "3.7.1"
  }
 },
 "nbformat": 4,
 "nbformat_minor": 2
}
