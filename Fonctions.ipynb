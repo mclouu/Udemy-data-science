{
 "cells": [
  {
   "cell_type": "code",
   "execution_count": 4,
   "metadata": {},
   "outputs": [],
   "source": [
    "prixDe58Maison = list(range(125000,700000,10000))\n",
    "def PrixSuperieurA3000000(liste):\n",
    "    nombreMaison = 0\n",
    "    for prix in liste:\n",
    "        if prix >= 300000:\n",
    "            nombreMaison = nombreMaison + 1\n",
    "    return nombreMaison"
   ]
  },
  {
   "cell_type": "code",
   "execution_count": 8,
   "metadata": {},
   "outputs": [
    {
     "name": "stdout",
     "output_type": "stream",
     "text": [
      "40\n"
     ]
    }
   ],
   "source": [
    "nombreMaison = PrixSuperieurA3000000(prixDe58Maison)\n",
    "print(nombreMaison)"
   ]
  },
  {
   "cell_type": "code",
   "execution_count": 11,
   "metadata": {},
   "outputs": [],
   "source": [
    "# fonction avec multi return\n",
    "def PrixSuperieurA3000000(liste):\n",
    "    nombreMaison = 0\n",
    "    nombreMaisonTotal = 0\n",
    "    for prix in liste:\n",
    "        if prix >= 300000:\n",
    "            nombreMaison = nombreMaison + 1\n",
    "        nombreMaisonTotal = nombreMaisonTotal + 1\n",
    "    return (nombreMaison, nombreMaisonTotal)"
   ]
  },
  {
   "cell_type": "code",
   "execution_count": 15,
   "metadata": {},
   "outputs": [
    {
     "name": "stdout",
     "output_type": "stream",
     "text": [
      "Nombre de maison inférieur à 300 000 : 40\n",
      "Nombre de maison total : 58\n"
     ]
    }
   ],
   "source": [
    "nombreMaison, nombreMaisonTotal = PrixSuperieurA3000000(prixDe58Maison)\n",
    "print(\"Nombre de maison inférieur à 300 000 : %d\" % nombreMaison)\n",
    "print(\"Nombre de maison total : %d\" % nombreMaisonTotal)"
   ]
  },
  {
   "cell_type": "code",
   "execution_count": null,
   "metadata": {},
   "outputs": [],
   "source": []
  }
 ],
 "metadata": {
  "kernelspec": {
   "display_name": "Python 3",
   "language": "python",
   "name": "python3"
  },
  "language_info": {
   "codemirror_mode": {
    "name": "ipython",
    "version": 3
   },
   "file_extension": ".py",
   "mimetype": "text/x-python",
   "name": "python",
   "nbconvert_exporter": "python",
   "pygments_lexer": "ipython3",
   "version": "3.7.1"
  }
 },
 "nbformat": 4,
 "nbformat_minor": 2
}
