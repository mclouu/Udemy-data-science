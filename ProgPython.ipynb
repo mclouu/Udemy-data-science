{
 "cells": [
  {
   "cell_type": "code",
   "execution_count": null,
   "metadata": {},
   "outputs": [],
   "source": [
    "age = 24\n",
    "nom = \"clou\"\n",
    "sexe = \"H\"\n",
    "maListe = [1,2,3,4,5,6,7,8,9,10]\n",
    "compteur = 0"
   ]
  },
  {
   "cell_type": "markdown",
   "metadata": {},
   "source": [
    "# conditions"
   ]
  },
  {
   "cell_type": "code",
   "execution_count": 54,
   "metadata": {},
   "outputs": [
    {
     "name": "stdout",
     "output_type": "stream",
     "text": [
      "tu es majeur \n"
     ]
    }
   ],
   "source": [
    "if (age >= 18 and sexe == \"H\"):\n",
    "    print(\"tu es majeur \")\n",
    "else:\n",
    "    print(\"tu es mineur\")"
   ]
  },
  {
   "cell_type": "markdown",
   "metadata": {},
   "source": [
    "# boucle for"
   ]
  },
  {
   "cell_type": "code",
   "execution_count": 55,
   "metadata": {},
   "outputs": [
    {
     "name": "stdout",
     "output_type": "stream",
     "text": [
      "2\n",
      "4\n",
      "6\n",
      "8\n",
      "10\n",
      "12\n",
      "14\n",
      "16\n",
      "18\n",
      "20\n"
     ]
    }
   ],
   "source": [
    "for maListe in maListe: # boucle la liste par le nombre de valeur, affiche la valeur doublé\n",
    "    print(maListe*2)"
   ]
  },
  {
   "cell_type": "markdown",
   "metadata": {},
   "source": [
    "# boucle while"
   ]
  },
  {
   "cell_type": "code",
   "execution_count": 64,
   "metadata": {},
   "outputs": [
    {
     "name": "stdout",
     "output_type": "stream",
     "text": [
      "Mon compteur = 0\n",
      "Ma valeur = 1\n",
      "Mon compteur = 1\n",
      "Ma valeur = 2\n",
      "Mon compteur = 2\n",
      "Ma valeur = 3\n",
      "Mon compteur = 3\n",
      "Ma valeur = 4\n",
      "Mon compteur = 4\n",
      "Ma valeur = 5\n",
      "Mon compteur = 5\n",
      "Ma valeur = 6\n",
      "Mon compteur = 6\n",
      "Ma valeur = 7\n",
      "Mon compteur = 7\n",
      "Ma valeur = 8\n",
      "Mon compteur = 8\n",
      "Ma valeur = 9\n",
      "Mon compteur = 9\n",
      "Ma valeur = 10\n"
     ]
    }
   ],
   "source": [
    "while (compteur < 10):\n",
    "    print(\"Mon compteur = %d\" % (compteur))\n",
    "    print(\"Ma valeur = %d\" % (maListe[compteur]))\n",
    "    compteur +=1"
   ]
  },
  {
   "cell_type": "code",
   "execution_count": null,
   "metadata": {},
   "outputs": [],
   "source": [
    "maListe2 = [1,2,3,4,5,6,7,8,9,10]\n",
    "compteur2 = 0\n",
    "while (compteur2 < 10):\n",
    "    if (maListe2[compteur2] % 2 == 0):\n",
    "        print(\"Mon compteur = %d\" % (compteur2))\n",
    "        print(\"Ma valeur = %d\" % (maListe2[compteur2]))\n",
    "    compteur2=compteur2+1"
   ]
  }
 ],
 "metadata": {
  "kernelspec": {
   "display_name": "Python 3",
   "language": "python",
   "name": "python3"
  },
  "language_info": {
   "codemirror_mode": {
    "name": "ipython",
    "version": 3
   },
   "file_extension": ".py",
   "mimetype": "text/x-python",
   "name": "python",
   "nbconvert_exporter": "python",
   "pygments_lexer": "ipython3",
   "version": "3.7.1"
  }
 },
 "nbformat": 4,
 "nbformat_minor": 2
}
