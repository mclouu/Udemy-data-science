{
 "cells": [
  {
   "cell_type": "code",
   "execution_count": 20,
   "metadata": {},
   "outputs": [],
   "source": [
    "# Créer un dictionnaire\n",
    "noteEleves = {\n",
    "    \"nico\" : 16,\n",
    "    \"Renaud\" : 20,\n",
    "    \"Romain\" : 4,\n",
    "    \"Arthur\" : 17,\n",
    "    \"luca\" : 18,\n",
    "    \"Big\" : \"absent\"\n",
    "}"
   ]
  },
  {
   "cell_type": "code",
   "execution_count": 21,
   "metadata": {},
   "outputs": [
    {
     "data": {
      "text/plain": [
       "20"
      ]
     },
     "execution_count": 21,
     "metadata": {},
     "output_type": "execute_result"
    }
   ],
   "source": [
    "# Afficher un item de mon dictionnaire\n",
    "noteEleves[\"Renaud\"]"
   ]
  },
  {
   "cell_type": "code",
   "execution_count": 28,
   "metadata": {},
   "outputs": [
    {
     "data": {
      "text/plain": [
       "{'nico': 16,\n",
       " 'Renaud': 20,\n",
       " 'Romain': 3,\n",
       " 'Arthur': 17,\n",
       " 'luca': 18,\n",
       " 'Big': 'absent',\n",
       " 'Sylvanas': 9,\n",
       " 'Anduin': 12,\n",
       " 'Artanis': 20}"
      ]
     },
     "execution_count": 28,
     "metadata": {},
     "output_type": "execute_result"
    }
   ],
   "source": [
    "# Ajouter une valeur à mon dictionnaire\n",
    "noteEleves[\"Sylvanas\"] = 9\n",
    "noteEleves[\"Anduin\"] = 12\n",
    "noteEleves[\"Artanis\"] = 20\n",
    "noteEleves"
   ]
  },
  {
   "cell_type": "code",
   "execution_count": 29,
   "metadata": {
    "scrolled": true
   },
   "outputs": [
    {
     "data": {
      "text/plain": [
       "{'nico': 16,\n",
       " 'Renaud': 20,\n",
       " 'Romain': 3,\n",
       " 'Arthur': 17,\n",
       " 'luca': 18,\n",
       " 'Big': 'absent',\n",
       " 'Sylvanas': 9,\n",
       " 'Anduin': 12,\n",
       " 'Artanis': 20}"
      ]
     },
     "execution_count": 29,
     "metadata": {},
     "output_type": "execute_result"
    }
   ],
   "source": [
    "# Changer une valeur à mon dictionnaire\n",
    "noteEleves[\"Romain\"] = 3\n",
    "noteEleves"
   ]
  },
  {
   "cell_type": "code",
   "execution_count": 30,
   "metadata": {},
   "outputs": [
    {
     "data": {
      "text/plain": [
       "{'nico': 16,\n",
       " 'Renaud': 20,\n",
       " 'Romain': 3,\n",
       " 'Arthur': 17,\n",
       " 'luca': 18,\n",
       " 'Big': 'absent',\n",
       " 'Sylvanas': 9,\n",
       " 'Anduin': 12}"
      ]
     },
     "execution_count": 30,
     "metadata": {},
     "output_type": "execute_result"
    }
   ],
   "source": [
    "# supprimer un item par son index\n",
    "del noteEleves[\"Artanis\"]\n",
    "noteEleves"
   ]
  },
  {
   "cell_type": "code",
   "execution_count": 36,
   "metadata": {},
   "outputs": [
    {
     "data": {
      "text/plain": [
       "dict_keys(['nico', 'Renaud', 'Romain', 'Arthur', 'luca', 'Big', 'Sylvanas', 'Anduin'])"
      ]
     },
     "execution_count": 36,
     "metadata": {},
     "output_type": "execute_result"
    }
   ],
   "source": [
    "# Affiche l'index\n",
    "noteEleves.keys()"
   ]
  },
  {
   "cell_type": "code",
   "execution_count": 39,
   "metadata": {},
   "outputs": [
    {
     "data": {
      "text/plain": [
       "dict_values([16, 20, 3, 17, 18, 'absent', 9, 12])"
      ]
     },
     "execution_count": 39,
     "metadata": {},
     "output_type": "execute_result"
    }
   ],
   "source": [
    "# Affiche la valeur\n",
    "noteEleves.values()"
   ]
  },
  {
   "cell_type": "code",
   "execution_count": 40,
   "metadata": {},
   "outputs": [
    {
     "name": "stdout",
     "output_type": "stream",
     "text": [
      "nico\n",
      "Renaud\n",
      "Romain\n",
      "Arthur\n",
      "luca\n",
      "Big\n",
      "Sylvanas\n",
      "Anduin\n"
     ]
    }
   ],
   "source": [
    "# parcourt tous les index du dictionnaire avec une boucle FOR\n",
    "for cle in noteEleves.keys():\n",
    "    print(cle)"
   ]
  },
  {
   "cell_type": "code",
   "execution_count": 41,
   "metadata": {},
   "outputs": [
    {
     "data": {
      "text/plain": [
       "dict_items([('nico', 16), ('Renaud', 20), ('Romain', 3), ('Arthur', 17), ('luca', 18), ('Big', 'absent'), ('Sylvanas', 9), ('Anduin', 12)])"
      ]
     },
     "execution_count": 41,
     "metadata": {},
     "output_type": "execute_result"
    }
   ],
   "source": [
    "noteEleves.items()"
   ]
  },
  {
   "cell_type": "code",
   "execution_count": 43,
   "metadata": {},
   "outputs": [
    {
     "name": "stdout",
     "output_type": "stream",
     "text": [
      "nico 16\n",
      "Renaud 20\n",
      "Romain 3\n",
      "Arthur 17\n",
      "luca 18\n",
      "Big absent\n",
      "Sylvanas 9\n",
      "Anduin 12\n"
     ]
    }
   ],
   "source": [
    "for cle,valeur in noteEleves.items():\n",
    "    print(cle,valeur)"
   ]
  },
  {
   "cell_type": "code",
   "execution_count": null,
   "metadata": {},
   "outputs": [],
   "source": []
  }
 ],
 "metadata": {
  "kernelspec": {
   "display_name": "Python 3",
   "language": "python",
   "name": "python3"
  },
  "language_info": {
   "codemirror_mode": {
    "name": "ipython",
    "version": 3
   },
   "file_extension": ".py",
   "mimetype": "text/x-python",
   "name": "python",
   "nbconvert_exporter": "python",
   "pygments_lexer": "ipython3",
   "version": "3.7.1"
  }
 },
 "nbformat": 4,
 "nbformat_minor": 2
}
