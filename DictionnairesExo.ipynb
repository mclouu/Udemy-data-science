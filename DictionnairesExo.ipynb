{
 "cells": [
  {
   "cell_type": "code",
   "execution_count": 83,
   "metadata": {},
   "outputs": [],
   "source": [
    "#1\n",
    "notesEleves = {\n",
    "    \"Marie\" : 15,\n",
    "    \"Samuel\" : 17,\n",
    "    \"Gaston\" : 12,\n",
    "    \"Fred\" : 10,\n",
    "    \"Mae\" : 5,\n",
    "    \"Julie\" : 15,\n",
    "    \"Zoe\" : 7,\n",
    "    \"Claire\" : 20,\n",
    "    \"Chloe\" : 8,\n",
    "    \"Julien\" : 14,\n",
    "    \"Gaël\" : 9,\n",
    "    \"Samia\" : 15,\n",
    "    \"Omar\" : 11,\n",
    "    \"Gabriel\" : 16,\n",
    "    \"Manon\" : 2\n",
    "}"
   ]
  },
  {
   "cell_type": "code",
   "execution_count": 84,
   "metadata": {},
   "outputs": [
    {
     "data": {
      "text/plain": [
       "11.733333333333333"
      ]
     },
     "execution_count": 84,
     "metadata": {},
     "output_type": "execute_result"
    }
   ],
   "source": [
    "#2 \n",
    "import numpy\n",
    "listNotesEleves = list(notesEleves.values())\n",
    "noteMoyenne = numpy.mean(listNotesEleves)\n",
    "noteMoyenne"
   ]
  },
  {
   "cell_type": "code",
   "execution_count": 85,
   "metadata": {},
   "outputs": [
    {
     "data": {
      "text/plain": [
       "15"
      ]
     },
     "execution_count": 85,
     "metadata": {},
     "output_type": "execute_result"
    }
   ],
   "source": [
    "#3\n",
    "len(notesEleves)"
   ]
  },
  {
   "cell_type": "code",
   "execution_count": 86,
   "metadata": {},
   "outputs": [
    {
     "name": "stdout",
     "output_type": "stream",
     "text": [
      "le nombre d'élève qui ont une note supérieur a 11.7 est de :8\n"
     ]
    }
   ],
   "source": [
    "#4\n",
    "compteurFor = 0\n",
    "for i in listNotesEleves:\n",
    "    if i > noteMoyenne:\n",
    "        compteurFor = compteurFor + 1\n",
    "print(\"le nombre d'élève qui ont une note supérieur a %.1f est de :%d\" % (noteMoyenne,compteurFor))\n",
    "    "
   ]
  },
  {
   "cell_type": "code",
   "execution_count": 90,
   "metadata": {},
   "outputs": [
    {
     "name": "stdout",
     "output_type": "stream",
     "text": [
      "Claire\n"
     ]
    }
   ],
   "source": [
    "#5\n",
    "meilleureNote=max(notesEleves.values())\n",
    "for prenom,note in notesEleves.items():\n",
    "    if note == meilleureNote:\n",
    "        print(prenom)"
   ]
  },
  {
   "cell_type": "code",
   "execution_count": 92,
   "metadata": {},
   "outputs": [
    {
     "name": "stdout",
     "output_type": "stream",
     "text": [
      "2\n"
     ]
    }
   ],
   "source": [
    "#6\n",
    "nombreEleve = 0\n",
    "for prenom in notesEleves.keys():\n",
    "    if len(prenom) < 4:\n",
    "        nombreEleve = nombreEleve + 1\n",
    "print(nombreEleve)"
   ]
  },
  {
   "cell_type": "code",
   "execution_count": 107,
   "metadata": {},
   "outputs": [],
   "source": [
    "#7\n",
    "loltdb = {\n",
    "    \"Adam le zizi\" : 75,\n",
    "    \"Ogu l'OnyPotent\" : 85,\n",
    "    \"Mcnickdo\" : 12,\n",
    "    \"Mcnickdo super saiyan yaourtman\" : 14,\n",
    "    \"Clou rouillé\" : 1236789,\n",
    "    \"Renaud alias  Zorro Ferrera\" : 631\n",
    "}\n",
    "    "
   ]
  },
  {
   "cell_type": "code",
   "execution_count": 108,
   "metadata": {},
   "outputs": [
    {
     "name": "stdout",
     "output_type": "stream",
     "text": [
      "Adam le zizi\n",
      "puissance : 75\n",
      "--------\n",
      "Ogu l'OnyPotent\n",
      "puissance : 85\n",
      "--------\n",
      "Mcnickdo\n",
      "puissance : 12\n",
      "--------\n",
      "Mcnickdo super saiyan yaourtman\n",
      "puissance : 14\n",
      "--------\n",
      "Clou rouillé\n",
      "puissance : 1236789\n",
      "--------\n",
      "Renaud alias  Zorro Ferrera\n",
      "puissance : 631\n",
      "--------\n"
     ]
    }
   ],
   "source": []
  },
  {
   "cell_type": "code",
   "execution_count": null,
   "metadata": {},
   "outputs": [],
   "source": []
  }
 ],
 "metadata": {
  "kernelspec": {
   "display_name": "Python 3",
   "language": "python",
   "name": "python3"
  },
  "language_info": {
   "codemirror_mode": {
    "name": "ipython",
    "version": 3
   },
   "file_extension": ".py",
   "mimetype": "text/x-python",
   "name": "python",
   "nbconvert_exporter": "python",
   "pygments_lexer": "ipython3",
   "version": "3.7.1"
  }
 },
 "nbformat": 4,
 "nbformat_minor": 2
}
